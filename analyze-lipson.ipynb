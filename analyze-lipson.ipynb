{
 "cells": [
  {
   "cell_type": "markdown",
   "metadata": {},
   "source": [
    "# Analyze the HNN lipson task\n",
    "(Work in progress)"
   ]
  },
  {
   "cell_type": "code",
   "execution_count": 9,
   "metadata": {},
   "outputs": [],
   "source": [
    "import torch, time, sys\n",
    "import numpy as np\n",
    "import matplotlib.pyplot as plt\n",
    "import scipy.integrate\n",
    "solve_ivp = scipy.integrate.solve_ivp\n",
    "\n",
    "EXPERIMENT_DIR = './experiment-lipson'\n",
    "sys.path.append(EXPERIMENT_DIR)\n",
    "\n",
    "from data import get_dataset\n",
    "from nn_models import MLP\n",
    "from hnn import HNN, HNNBaseline\n",
    "from utils import L2_loss"
   ]
  },
  {
   "cell_type": "markdown",
   "metadata": {},
   "source": [
    "## Set some notebook constants"
   ]
  },
  {
   "cell_type": "code",
   "execution_count": 2,
   "metadata": {},
   "outputs": [],
   "source": [
    "DPI = 300\n",
    "FORMAT = 'pdf'\n",
    "LINE_SEGMENTS = 10\n",
    "ARROW_SCALE = 30\n",
    "ARROW_WIDTH = 6e-3\n",
    "LINE_WIDTH = 2\n",
    "\n",
    "def get_args():\n",
    "    return {'input_dim': 2,\n",
    "         'hidden_dim': 200,\n",
    "         'learn_rate': 1e-3,\n",
    "         'nonlinearity': 'tanh',\n",
    "         'total_steps': 2000,\n",
    "         'print_every': 200,\n",
    "         'name': 'lipson',\n",
    "         'gridsize': 10,\n",
    "         'seed': 0,\n",
    "         'save_dir': './{}'.format(EXPERIMENT_DIR),\n",
    "         'fig_dir': './figures'}\n",
    "\n",
    "class ObjectView(object):\n",
    "    def __init__(self, d): self.__dict__ = d"
   ]
  },
  {
   "cell_type": "markdown",
   "metadata": {},
   "source": [
    "## Inspect the toy dataset"
   ]
  },
  {
   "cell_type": "code",
   "execution_count": 3,
   "metadata": {},
   "outputs": [],
   "source": [
    "# field, data = get_field(), get_dataset()\n",
    "\n",
    "# # plot config\n",
    "# fig = plt.figure(figsize=(8, 3), facecolor='white', dpi=DPI)\n",
    "\n",
    "# # plot spiral vector field\n",
    "# ax = fig.add_subplot(1, 2, 1, frameon=True)\n",
    "# ax.quiver(field['x'][:,0], field['x'][:,1], field['dx'][:,0], field['dx'][:,1], cmap='gray_r' )\n",
    "# ax.set_xlabel(\"$x_0$\") ; ax.set_ylabel(\"$x_1$\")\n",
    "# ax.set_title(\"Spiral vector field\")\n",
    "\n",
    "# # plot dataset\n",
    "# ax = fig.add_subplot(1, 2, 2, frameon=True)\n",
    "# ax.quiver(data['x'][:,0], data['x'][:,1], data['dx'][:,0], data['dx'][:,1], cmap='gray_r' )\n",
    "# ax.set_xlabel(\"$x_0$\") ; ax.set_ylabel(\"$x_1$\")\n",
    "# ax.set_title(\"Toy dataset\")\n",
    "\n",
    "# plt.tight_layout() ; plt.show()\n",
    "# # fig.savefig(fig_dir + '/toy-task.png')"
   ]
  },
  {
   "cell_type": "markdown",
   "metadata": {},
   "source": [
    "## Construct models"
   ]
  },
  {
   "cell_type": "code",
   "execution_count": 4,
   "metadata": {},
   "outputs": [],
   "source": [
    "# def get_model(args, baseline):\n",
    "    \n",
    "#     if baseline:\n",
    "#         nn_model = MLP(args.input_dim, args.hidden_dim,\n",
    "#                        args.input_dim, nonlinearity=args.nonlinearity)\n",
    "#         model = HNNBaseline(args.input_dim, baseline_model=nn_model)\n",
    "#         path = \"{}/toy-baseline.tar\".format(args.save_dir)\n",
    "#         model.load_state_dict(torch.load(path))\n",
    "#     else:\n",
    "#         nn_model = MLP(args.input_dim, args.hidden_dim,\n",
    "#                        2, nonlinearity=args.nonlinearity)\n",
    "#         model = HNN(args.input_dim, differentiable_model=nn_model, field_type='solenoidal')\n",
    "#         path = \"{}/toy-hnn.tar\".format(args.save_dir)\n",
    "#         model.load_state_dict(torch.load(path))\n",
    "        \n",
    "#     return model"
   ]
  },
  {
   "cell_type": "markdown",
   "metadata": {},
   "source": [
    "## Get vector fields"
   ]
  },
  {
   "cell_type": "code",
   "execution_count": 5,
   "metadata": {},
   "outputs": [],
   "source": [
    "# def get_vector_field(model, **kwargs):\n",
    "#     field = get_field(**kwargs)\n",
    "#     np_mesh_x = field['x']\n",
    "    \n",
    "#     # run model\n",
    "#     mesh_x = torch.tensor( np_mesh_x, requires_grad=True, dtype=torch.float32)\n",
    "#     mesh_dx = model.time_derivative(mesh_x)\n",
    "#     return mesh_dx.data.numpy()"
   ]
  },
  {
   "cell_type": "markdown",
   "metadata": {},
   "source": [
    "## Integrate along vector fields"
   ]
  },
  {
   "cell_type": "code",
   "execution_count": 6,
   "metadata": {},
   "outputs": [],
   "source": [
    "# def integrate_model(model, t_span, y0, **kwargs):\n",
    "    \n",
    "#     def fun(t, np_x):\n",
    "#         x = torch.tensor( np_x, requires_grad=True, dtype=torch.float32).view(1,2)\n",
    "#         dx = model.time_derivative(x).data.numpy().reshape(-1)\n",
    "#         return dx\n",
    "\n",
    "#     return solve_ivp(fun=fun, t_span=t_span, y0=y0, **kwargs)"
   ]
  },
  {
   "cell_type": "markdown",
   "metadata": {},
   "source": [
    "## Run analysis"
   ]
  },
  {
   "cell_type": "code",
   "execution_count": 7,
   "metadata": {},
   "outputs": [],
   "source": [
    "# args = ObjectView(get_args())\n",
    "# base_model = get_model(args, baseline=True)\n",
    "# hnn_model = get_model(args, baseline=False)\n",
    "\n",
    "# # get their vector fields\n",
    "# field = get_field(gridsize=args.gridsize)\n",
    "# data = get_dataset()\n",
    "# base_field = get_vector_field(base_model, gridsize=args.gridsize)\n",
    "# hnn_field = get_vector_field(hnn_model, gridsize=args.gridsize)\n",
    "\n",
    "# # integrate along those fields starting from point (1,0)\n",
    "# t_span = [0,50]\n",
    "# y0 = np.asarray([1., 0])\n",
    "# kwargs = {'t_eval': np.linspace(t_span[0], t_span[1], 1000)}\n",
    "# base_ivp = integrate_model(base_model, t_span, y0, **kwargs)\n",
    "# hnn_ivp = integrate_model(hnn_model, t_span, y0, **kwargs)"
   ]
  },
  {
   "cell_type": "markdown",
   "metadata": {},
   "source": [
    "## Plot results"
   ]
  },
  {
   "cell_type": "code",
   "execution_count": 8,
   "metadata": {},
   "outputs": [],
   "source": [
    "# ###### PLOT ######\n",
    "# fig = plt.figure(figsize=(12, 3), facecolor='white', dpi=DPI)\n",
    "\n",
    "# # plot vector field\n",
    "# ax = fig.add_subplot(1, 4, 1, frameon=True)\n",
    "# ax.quiver(field['x'][:,0], field['x'][:,1], field['dx'][:,0], field['dx'][:,1],\n",
    "#         cmap='gray_r', scale=ARROW_SCALE, width=ARROW_WIDTH)  \n",
    "# ax.set_xlabel(\"$x_0$\") ; ax.set_ylabel(\"$x_1$\")\n",
    "# ax.set_title(\"Vector field\")\n",
    "\n",
    "# # plot dataset\n",
    "# ax = fig.add_subplot(1, 4, 2, frameon=True)\n",
    "# ax.quiver(data['x'][:,0], data['x'][:,1], data['dx'][:,0], data['dx'][:,1],\n",
    "#         cmap='gray_r', scale=ARROW_SCALE, width=ARROW_WIDTH)  \n",
    "# ax.set_xlabel(\"$x_0$\") ; ax.set_ylabel(\"$x_1$\")\n",
    "# ax.set_title(\"Toy dataset\")\n",
    "\n",
    "# # plot baseline\n",
    "# ax = fig.add_subplot(1, 4, 3, frameon=True)\n",
    "# ax.quiver(field['x'][:,0], field['x'][:,1], base_field[:,0], base_field[:,1],\n",
    "#         cmap='gray_r', scale=ARROW_SCALE, width=ARROW_WIDTH)\n",
    "\n",
    "# for i, l in enumerate(np.split(base_ivp['y'].T, LINE_SEGMENTS)):\n",
    "#     color = (float(i)/LINE_SEGMENTS, 0, 1-float(i)/LINE_SEGMENTS)\n",
    "#     ax.plot(l[:,0],l[:,1],color=color, linewidth=LINE_WIDTH)\n",
    "\n",
    "# ax.set_xlabel(\"$x_0$\") ; ax.set_ylabel(\"$x_1$\")\n",
    "# ax.set_title(\"Baseline NN\")\n",
    "\n",
    "# # plot HNN\n",
    "# ax = fig.add_subplot(1, 4, 4, frameon=True)\n",
    "# ax.quiver(field['x'][:,0], field['x'][:,1], hnn_field[:,0], hnn_field[:,1],\n",
    "#         cmap='gray_r', scale=ARROW_SCALE, width=ARROW_WIDTH)\n",
    "\n",
    "# for i, l in enumerate(np.split(hnn_ivp['y'].T, LINE_SEGMENTS)):\n",
    "#     color = (float(i)/LINE_SEGMENTS, 0, 1-float(i)/LINE_SEGMENTS)\n",
    "#     ax.plot(l[:,0],l[:,1],color=color, linewidth=LINE_WIDTH)\n",
    "\n",
    "# ax.set_xlabel(\"$x_0$\") ; ax.set_ylabel(\"$x_1$\")\n",
    "# ax.set_title(\"Hamiltonian NN\")\n",
    "\n",
    "# plt.tight_layout() ; plt.show()\n",
    "# fig.savefig('{}/toy.{}'.format(args.fig_dir, FORMAT))"
   ]
  },
  {
   "cell_type": "code",
   "execution_count": null,
   "metadata": {},
   "outputs": [],
   "source": []
  }
 ],
 "metadata": {
  "kernelspec": {
   "display_name": "Python 3",
   "language": "python",
   "name": "python3"
  },
  "language_info": {
   "codemirror_mode": {
    "name": "ipython",
    "version": 3
   },
   "file_extension": ".py",
   "mimetype": "text/x-python",
   "name": "python",
   "nbconvert_exporter": "python",
   "pygments_lexer": "ipython3",
   "version": "3.6.6"
  }
 },
 "nbformat": 4,
 "nbformat_minor": 2
}
