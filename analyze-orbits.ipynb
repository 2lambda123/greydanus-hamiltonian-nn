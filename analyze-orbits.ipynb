{
 "cells": [
  {
   "cell_type": "markdown",
   "metadata": {},
   "source": [
    "# Simulating orbital dynamics with an HNN\n",
    "Sam Greydanus"
   ]
  },
  {
   "cell_type": "code",
   "execution_count": 1,
   "metadata": {},
   "outputs": [],
   "source": [
    "import torch, time, sys\n",
    "import numpy as np\n",
    "import matplotlib.pyplot as plt\n",
    "import scipy.integrate\n",
    "solve_ivp = scipy.integrate.solve_ivp\n",
    "\n",
    "EXPERIMENT_DIR = './experiment-orbits'\n",
    "sys.path.append(EXPERIMENT_DIR)\n",
    "\n",
    "from nn_models import MLP\n",
    "from hnn import HNN\n",
    "from utils import L2_loss, to_pickle, from_pickle\n",
    "from data import get_dataset, sample_orbits, coords2state\n",
    "from data import potential_energy, kinetic_energy, total_energy"
   ]
  },
  {
   "cell_type": "markdown",
   "metadata": {},
   "source": [
    "## Set some notebook constants"
   ]
  },
  {
   "cell_type": "code",
   "execution_count": 4,
   "metadata": {},
   "outputs": [],
   "source": [
    "DPI = 120\n",
    "FORMAT = 'png'\n",
    "\n",
    "def get_args():\n",
    "    return {'input_dim': 2*4, # two bodies, each with q_x, q_y, p_z, p_y\n",
    "         'hidden_dim': 200,\n",
    "         'learn_rate': 1e-3,\n",
    "         'input_noise': 0.,\n",
    "         'batch_size': 200,\n",
    "         'nonlinearity': 'tanh',\n",
    "         'total_steps': 1500,\n",
    "         'field_type': 'solenoidal',\n",
    "         'print_every': 200,\n",
    "         'verbose': True,\n",
    "         'name': '2body',\n",
    "         'seed': 0,\n",
    "         'save_dir': '{}'.format(EXPERIMENT_DIR),\n",
    "         'fig_dir': './figures'}\n",
    "\n",
    "class ObjectView(object):\n",
    "    def __init__(self, d): self.__dict__ = d"
   ]
  },
  {
   "cell_type": "markdown",
   "metadata": {},
   "source": [
    "## Make a model of $N$-body interaction\n",
    "Basically, we are using Newton's law to get accelerations. Then we pass the velocities and accelerations to the ODE solver, which uses them to update the positions and velocities (respectively) of the bodies.\n",
    "$$\n",
    "m_i a_i = G m_i \\sum_{j\\neq i}^N \\frac{r_j-r_i}{||r_j-r_i||^3}\n",
    "$$"
   ]
  },
  {
   "cell_type": "code",
   "execution_count": 3,
   "metadata": {},
   "outputs": [],
   "source": [
    "# ##### ENERGY #####\n",
    "# def potential_energy(state):\n",
    "#     '''U=\\sum_i,j>i G m_i m_j / r_ij'''\n",
    "#     tot_energy = np.zeros((1,1,state.shape[2]))\n",
    "#     for i in range(state.shape[0]):\n",
    "#         for j in range(i+1,state.shape[0]):\n",
    "#             r_ij = ((state[i:i+1,1:3] - state[j:j+1,1:3])**2).sum(1, keepdims=True)**.5\n",
    "#             m_i = state[i:i+1,0:1]\n",
    "#             m_j = state[j:j+1,0:1]\n",
    "#     tot_energy += m_i * m_j / r_ij\n",
    "#     U = -tot_energy.sum(0).squeeze()\n",
    "#     return U\n",
    "\n",
    "# def kinetic_energy(state):\n",
    "#     '''T=\\sum_i .5*m*v^2'''\n",
    "#     energies = .5 * state[:,0:1] * (state[:,3:5]**2).sum(1, keepdims=True)\n",
    "#     T = energies.sum(0).squeeze()\n",
    "#     return T\n",
    "\n",
    "# def total_energy(state):\n",
    "#     return potential_energy(state) + kinetic_energy(state)\n",
    "\n",
    "\n",
    "# ##### DYNAMICS #####\n",
    "# def get_accelerations(state, epsilon=0):\n",
    "#     # shape of state is [bodies x properties]\n",
    "#     net_accs = [] # [nbodies x 2]\n",
    "#     for i in range(state.shape[0]): # number of bodies\n",
    "#         other_bodies = np.concatenate([state[:i, :], state[i+1:, :]], axis=0)\n",
    "#         displacements = other_bodies[:, 1:3] - state[i, 1:3] # indexes 1:3 -> pxs, pys\n",
    "#         distances = (displacements**2).sum(1, keepdims=True)**0.5\n",
    "#         masses = other_bodies[:, 0:1] # index 0 -> mass\n",
    "#         pointwise_accs = masses * displacements / (distances**3 + epsilon) # G=1\n",
    "#         net_acc = pointwise_accs.sum(0, keepdims=True)\n",
    "#         net_accs.append(net_acc)\n",
    "#     net_accs = np.concatenate(net_accs, axis=0)\n",
    "#     return net_accs\n",
    "  \n",
    "# def update(t, state):\n",
    "#     state = state.reshape(-1,5) # [bodies, properties]\n",
    "#     deriv = np.zeros_like(state)\n",
    "#     deriv[:,1:3] = state[:,3:5] # dx, dy = vx, vy\n",
    "#     deriv[:,3:5] = get_accelerations(state)\n",
    "#     return deriv.reshape(-1)"
   ]
  },
  {
   "cell_type": "markdown",
   "metadata": {},
   "source": [
    "## Integration settings"
   ]
  },
  {
   "cell_type": "code",
   "execution_count": 4,
   "metadata": {},
   "outputs": [],
   "source": [
    "# def get_orbit(state, update_fn=update, t_points=100, t_span=[0,2], **kwargs):\n",
    "#     if not 'rtol' in kwargs.keys():\n",
    "#         kwargs['rtol'] = 1e-9\n",
    "\n",
    "#     orbit_settings = locals()\n",
    "\n",
    "#     nbodies = state.shape[0]\n",
    "#     t_eval = np.linspace(t_span[0], t_span[1], t_points)\n",
    "#     orbit_settings['t_eval'] = t_eval\n",
    "\n",
    "#     path = solve_ivp(fun=update_fn, t_span=t_span, y0=state.flatten(),\n",
    "#                      t_eval=t_eval, **kwargs)\n",
    "#     orbit = path['y'].reshape(nbodies, 5, t_points)\n",
    "#     return orbit, orbit_settings"
   ]
  },
  {
   "cell_type": "markdown",
   "metadata": {},
   "source": [
    "## Make a dataset of near-circular orbits"
   ]
  },
  {
   "cell_type": "code",
   "execution_count": 5,
   "metadata": {},
   "outputs": [],
   "source": [
    "# def random_config(orbit_noise=5e-2, min_radius=0.5, max_radius=1.5):\n",
    "#     state = np.zeros((2,5))\n",
    "#     state[:,0] = 1\n",
    "#     pos = np.random.rand(2) * (max_radius-min_radius) + min_radius\n",
    "#     r = np.sqrt( np.sum((pos**2)) )\n",
    "\n",
    "#     # velocity that yields a circular orbit\n",
    "#     vel = np.flipud(pos) / (2 * r**1.5)\n",
    "#     vel[0] *= -1\n",
    "#     vel *= 1 + orbit_noise*np.random.randn()\n",
    "\n",
    "#     # make the circular orbits SLIGHTLY elliptical\n",
    "#     state[:,1:3] = pos\n",
    "#     state[:,3:5] = vel\n",
    "#     state[1,1:] *= -1\n",
    "#     return state\n",
    "\n",
    "# def sample_orbits(timesteps=50, trials=200, nbodies=2, orbit_noise=5e-2,\n",
    "#                   min_radius=0.5, max_radius=1.5, t_span=[0, 20], verbose=False, **kwargs):\n",
    "    \n",
    "#     orbit_settings = locals()\n",
    "#     if verbose:\n",
    "#         print(\"Making a dataset of near-circular 2-body orbits:\")\n",
    "    \n",
    "#     x, dx, e = [], [], []\n",
    "#     N = timesteps*trials\n",
    "#     while len(x) < N:\n",
    "\n",
    "#         state = random_config(orbit_noise, min_radius, max_radius)\n",
    "#         orbit, settings = get_orbit(state, t_points=timesteps, t_span=t_span, **kwargs)\n",
    "#         batch = orbit.transpose(2,0,1).reshape(-1,10)\n",
    "\n",
    "#         for state in batch:\n",
    "#             dstate = update(None, state)\n",
    "            \n",
    "#             # reshape from [nbodies, state] where state=[m, qx, qy, px, py]\n",
    "#             # to [canonical_coords] = [qx1, qx2, qy1, qy2, px1,px2,....]\n",
    "#             coords = state.reshape(nbodies,5).T[1:].flatten()\n",
    "#             dcoords = dstate.reshape(nbodies,5).T[1:].flatten()\n",
    "#             x.append(coords)\n",
    "#             dx.append(dcoords)\n",
    "\n",
    "#             shaped_state = state.copy().reshape(2,5,1)\n",
    "#             e.append(total_energy(shaped_state))\n",
    "\n",
    "#     data = {'coords': np.stack(x)[:N],\n",
    "#             'dcoords': np.stack(dx)[:N],\n",
    "#             'energy': np.stack(e)[:N] }\n",
    "#     return data, orbit_settings\n",
    "\n",
    "\n",
    "# def make_orbits_dataset(test_split=0.2, **kwargs):\n",
    "#     data, orbit_settings = sample_orbits(**kwargs)\n",
    "    \n",
    "#     # make a train/test split\n",
    "#     split_ix = int(data['coords'].shape[0] * test_split)\n",
    "#     split_data = {}\n",
    "#     for k, v in data.items():\n",
    "#         split_data[k], split_data['test_' + k] = v[split_ix:], v[:split_ix]\n",
    "#     data = split_data\n",
    "\n",
    "#     data['meta'] = orbit_settings\n",
    "#     return data\n",
    "\n",
    "# def get_dataset(experiment_name, save_dir, **kwargs):\n",
    "#     '''Returns an orbital dataset. Also constructs\n",
    "#     the dataset if no saved version is available.'''\n",
    "\n",
    "#     path = '{}/{}-orbit-dataset.pkl'.format(save_dir, experiment_name)\n",
    "\n",
    "#     try:\n",
    "#         data = from_pickle(path)\n",
    "#         print(\"Successfully loaded data from {}\".format(path))\n",
    "#     except:\n",
    "#         print(\"Had a problem loading data from {}. Rebuilding dataset...\".format(path))\n",
    "#         data = make_orbits_dataset(**kwargs)\n",
    "#         to_pickle(data, path)\n",
    "\n",
    "#     return data"
   ]
  },
  {
   "cell_type": "markdown",
   "metadata": {},
   "source": [
    "## Visualize one random config"
   ]
  },
  {
   "cell_type": "code",
   "execution_count": 7,
   "metadata": {},
   "outputs": [],
   "source": [
    "# def coords2state(coords, nbodies=2, mass=1):\n",
    "#     timesteps = coords.shape[0]\n",
    "#     state = coords.T\n",
    "#     state = state.reshape(-1, nbodies, timesteps).transpose(1,0,2)\n",
    "#     mass_vec = mass * np.ones((nbodies, 1, timesteps))\n",
    "#     state = np.concatenate([mass_vec, state], axis=1)\n",
    "#     return state"
   ]
  },
  {
   "cell_type": "code",
   "execution_count": 3,
   "metadata": {},
   "outputs": [
    {
     "name": "stdout",
     "output_type": "stream",
     "text": [
      "Making a dataset of near-circular 2-body orbits:\n"
     ]
    },
    {
     "data": {
      "image/png": "[encoded data removed]",
      "text/plain": [
       "<Figure size 1000x400 with 2 Axes>"
      ]
     },
     "metadata": {
      "needs_background": "light"
     },
     "output_type": "display_data"
    }
   ],
   "source": [
    "np.random.seed(2)\n",
    "\n",
    "timesteps = 200\n",
    "t_span = [0,20]\n",
    "data, settings = sample_orbits(timesteps=timesteps, t_span=t_span, trials=1, verbose=True)\n",
    "orbit = coords2state(data['coords'])\n",
    "\n",
    "# draw trajectories\n",
    "fig = plt.figure(figsize=[10,4], dpi=100)\n",
    "plt.subplot(1,2,1)\n",
    "plt.title('Trajectories')\n",
    "for i, path in enumerate(orbit):\n",
    "    plt.plot(path[1], path[2], label='body {} path'.format(i))\n",
    "\n",
    "plt.axis('equal')\n",
    "plt.xlabel('$px$') ; plt.ylabel('$py$')\n",
    "plt.legend(fontsize=8)\n",
    "\n",
    "plt.subplot(1,2,2)\n",
    "plt.title('Energy') ; plt.xlabel('time')\n",
    "t_range = np.linspace(t_span[0], t_span[1], timesteps)\n",
    "plt.plot(t_range, potential_energy(orbit), label='potential')\n",
    "plt.plot(t_range, kinetic_energy(orbit), label='kinetic')\n",
    "plt.plot(t_range, total_energy(orbit), label='total')\n",
    "plt.legend()\n",
    "plt.xlim(*settings['t_span'])\n",
    "\n",
    "plt.show()"
   ]
  },
  {
   "cell_type": "code",
   "execution_count": 5,
   "metadata": {},
   "outputs": [
    {
     "name": "stdout",
     "output_type": "stream",
     "text": [
      "Successfully loaded data from ./experiment-orbits/2body-orbit-dataset.pkl\n"
     ]
    }
   ],
   "source": [
    "arg_dict = get_args()\n",
    "arg_dict['baseline'] = True\n",
    "args = ObjectView(arg_dict)\n",
    "\n",
    "data = get_dataset(args.name, args.save_dir)"
   ]
  },
  {
   "cell_type": "markdown",
   "metadata": {},
   "source": [
    "## Train model"
   ]
  },
  {
   "cell_type": "code",
   "execution_count": 12,
   "metadata": {},
   "outputs": [],
   "source": [
    "# def train(args):\n",
    "#     # set random seed\n",
    "#     torch.manual_seed(args.seed)\n",
    "#     np.random.seed(args.seed)\n",
    "\n",
    "#     # init model and optimizer\n",
    "#     if args.verbose:\n",
    "#         print(\"Training baseline model:\" if args.baseline else \"Training HNN model:\")\n",
    "\n",
    "#     output_dim = args.input_dim if args.baseline else 2\n",
    "#     nn_model = MLP(args.input_dim, args.hidden_dim, output_dim, args.nonlinearity)\n",
    "#     model = HNN(args.input_dim, differentiable_model=nn_model,\n",
    "#               field_type=args.field_type, baseline=args.baseline)\n",
    "#     optim = torch.optim.Adam(model.parameters(), args.learn_rate, weight_decay=0)\n",
    "\n",
    "#     # arrange data\n",
    "#     data = get_dataset(args.name, args.save_dir, verbose=True)\n",
    "#     x = torch.tensor( data['coords'], requires_grad=True, dtype=torch.float32)\n",
    "#     test_x = torch.tensor( data['test_coords'], requires_grad=True, dtype=torch.float32)\n",
    "#     dxdt = torch.Tensor(data['dcoords'])\n",
    "#     test_dxdt = torch.Tensor(data['test_dcoords'])\n",
    "\n",
    "#     # vanilla train loop\n",
    "#     stats = {'train_loss': [], 'test_loss': []}\n",
    "#     for step in range(args.total_steps+1):\n",
    "\n",
    "#         # train step\n",
    "#         dxdt_hat = model.time_derivative(x)\n",
    "#         dxdt_hat += args.input_noise * torch.randn(*x.shape) # add noise, maybe\n",
    "#         loss = L2_loss(dxdt, dxdt_hat)\n",
    "#         loss.backward()\n",
    "#         grad = torch.cat([p.grad.flatten() for p in model.parameters()]).clone()\n",
    "#         optim.step() ; optim.zero_grad()\n",
    "\n",
    "#         # run test data\n",
    "#         test_dxdt_hat = model.time_derivative(test_x)\n",
    "#         test_dxdt_hat += args.input_noise * torch.randn(*test_x.shape) # add noise, maybe\n",
    "#         test_loss = L2_loss(test_dxdt, test_dxdt_hat)\n",
    "\n",
    "#         # logging\n",
    "#         stats['train_loss'].append(loss.item())\n",
    "#         stats['test_loss'].append(test_loss.item())\n",
    "#         if args.verbose and step % args.print_every == 0:\n",
    "#             print(\"step {}, train_loss {:.4e}, test_loss {:.4e}, grad norm {:.4e}, grad std {:.4e}\"\n",
    "#                   .format(step, loss.item(), test_loss.item(), grad@grad, grad.std()))\n",
    "\n",
    "#     return model, stats"
   ]
  },
  {
   "cell_type": "code",
   "execution_count": 13,
   "metadata": {},
   "outputs": [
    {
     "name": "stdout",
     "output_type": "stream",
     "text": [
      "Training baseline model:\n",
      "Successfully loaded data from ./experiment-orbits/2body-orbit-dataset.pkl\n",
      "step 0, train_loss 6.8331e-02, test_loss 1.8858e-02, grad norm 3.4241e-01, grad std 2.8021e-03\n",
      "step 200, train_loss 3.3722e-04, test_loss 1.8477e-04, grad norm 4.2715e-08, grad std 9.8972e-07\n",
      "step 400, train_loss 3.1497e-04, test_loss 1.7607e-04, grad norm 2.0596e-08, grad std 6.8724e-07\n",
      "step 600, train_loss 2.9233e-04, test_loss 1.6913e-04, grad norm 1.7067e-08, grad std 6.2560e-07\n",
      "step 800, train_loss 2.6550e-04, test_loss 1.6097e-04, grad norm 5.7108e-08, grad std 1.1444e-06\n",
      "step 1000, train_loss 2.3355e-04, test_loss 1.4961e-04, grad norm 2.1235e-08, grad std 6.9783e-07\n",
      "step 1200, train_loss 2.7021e-04, test_loss 2.0286e-04, grad norm 5.7059e-04, grad std 1.1439e-04\n",
      "step 1400, train_loss 1.7123e-04, test_loss 1.1871e-04, grad norm 1.1803e-05, grad std 1.6452e-05\n"
     ]
    }
   ],
   "source": [
    "arg_dict = get_args()\n",
    "arg_dict['baseline'] = True\n",
    "args = ObjectView(arg_dict)\n",
    "\n",
    "base_model, base_stats = train(args)"
   ]
  },
  {
   "cell_type": "markdown",
   "metadata": {},
   "source": [
    "## Qualitative results"
   ]
  }
 ],
 "metadata": {
  "kernelspec": {
   "display_name": "Python 3",
   "language": "python",
   "name": "python3"
  },
  "language_info": {
   "codemirror_mode": {
    "name": "ipython",
    "version": 3
   },
   "file_extension": ".py",
   "mimetype": "text/x-python",
   "name": "python",
   "nbconvert_exporter": "python",
   "pygments_lexer": "ipython3",
   "version": "3.6.6"
  }
 },
 "nbformat": 4,
 "nbformat_minor": 2
}
